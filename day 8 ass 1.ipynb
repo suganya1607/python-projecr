{
 "cells": [
  {
   "cell_type": "code",
   "execution_count": 1,
   "metadata": {},
   "outputs": [],
   "source": [
    "def fib(self, N):\n",
    "    \"\"\"\n",
    "    :type N: int\n",
    "    :rtype: int\n",
    "    \"\"\"\n",
    "    cache = {}\n",
    "    def recur_fib(N):\n",
    "        if N in cache:\n",
    "            return cache[N]\n",
    "\n",
    "        if N < 2:\n",
    "            result = N\n",
    "        else:\n",
    "            result = recur_fib(N-1) + recur_fib(N-2)\n",
    "\n",
    "        cache[N] = result\n",
    "        return result\n",
    "\n",
    "    return recur_fib(N)"
   ]
  },
  {
   "cell_type": "code",
   "execution_count": null,
   "metadata": {},
   "outputs": [],
   "source": []
  }
 ],
 "metadata": {
  "kernelspec": {
   "display_name": "Python 3",
   "language": "python",
   "name": "python3"
  },
  "language_info": {
   "codemirror_mode": {
    "name": "ipython",
    "version": 3
   },
   "file_extension": ".py",
   "mimetype": "text/x-python",
   "name": "python",
   "nbconvert_exporter": "python",
   "pygments_lexer": "ipython3",
   "version": "3.8.3"
  }
 },
 "nbformat": 4,
 "nbformat_minor": 4
}
