{
 "cells": [
  {
   "cell_type": "code",
   "execution_count": 2,
   "metadata": {},
   "outputs": [
    {
     "name": "stdout",
     "output_type": "stream",
     "text": [
      "Account owner: Jose\n",
      "Account balance: $100\n",
      "Deposit Accepted, your balance is 150\n",
      "Withdrawal Accepted, your balance is 75\n",
      "Funds Unavailable!\n"
     ]
    }
   ],
   "source": [
    "class Account:\n",
    "    \n",
    "    def __init__(self, owner, balance):\n",
    "        self.owner = owner\n",
    "        self.balance = balance\n",
    "    \n",
    "    def __str__(self):\n",
    "        return 'Account owner: {owner}\\nAccount balance: ${balance}'.format(owner=self.owner, balance=self.balance)\n",
    "        \n",
    "    def deposit(self, dp_money):\n",
    "        self.balance += dp_money\n",
    "        print('Deposit Accepted, your balance is {balance}'.format(balance=self.balance))\n",
    "    \n",
    "    def withdraw(self, wd_money):\n",
    "        if wd_money > self.balance:\n",
    "            print('Funds Unavailable!')\n",
    "        else:\n",
    "            self.balance -= wd_money\n",
    "            print('Withdrawal Accepted, your balance is {balance}'.format(balance=self.balance))\n",
    "            \n",
    "acct1 = Account('Jose',100)\n",
    "print(acct1)\n",
    "\n",
    "acct1.deposit(50)\n",
    "acct1.withdraw(75)\n",
    "acct1.withdraw(500)"
   ]
  },
  {
   "cell_type": "code",
   "execution_count": null,
   "metadata": {},
   "outputs": [],
   "source": []
  },
  {
   "cell_type": "code",
   "execution_count": null,
   "metadata": {},
   "outputs": [],
   "source": []
  }
 ],
 "metadata": {
  "kernelspec": {
   "display_name": "Python 3",
   "language": "python",
   "name": "python3"
  },
  "language_info": {
   "codemirror_mode": {
    "name": "ipython",
    "version": 3
   },
   "file_extension": ".py",
   "mimetype": "text/x-python",
   "name": "python",
   "nbconvert_exporter": "python",
   "pygments_lexer": "ipython3",
   "version": "3.8.3"
  }
 },
 "nbformat": 4,
 "nbformat_minor": 4
}
